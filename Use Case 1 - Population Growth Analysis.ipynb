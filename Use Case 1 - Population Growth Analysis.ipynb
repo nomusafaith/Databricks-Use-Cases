{
 "cells": [
  {
   "cell_type": "markdown",
   "metadata": {
    "application/vnd.databricks.v1+cell": {
     "cellMetadata": {},
     "inputWidgets": {},
     "nuid": "d5408bcc-87f8-4f10-8b10-964da4630fac",
     "showTitle": false,
     "tableResultSettingsMap": {},
     "title": ""
    }
   },
   "source": [
    "# Business Use Case: Is Afghanistan Urbanizing Faster Than Similar Countries?\n",
    "## Client: Global Development Agency / Urbanization Fund\n",
    "\n",
    "### Challenge:\n",
    "The client wants to understand how Afghanistan's population growth compares with similar developing nations, to decide whether it should be prioritized for urban infrastructure investments and aid.\n",
    "\n",
    "### Business Question:\n",
    "\"Has Afghanistan's total population growth from 2000 to 2016 significantly outpaced the global average among developing countries?\""
   ]
  },
  {
   "cell_type": "code",
   "execution_count": 0,
   "metadata": {
    "application/vnd.databricks.v1+cell": {
     "cellMetadata": {
      "byteLimit": 2048000,
      "rowLimit": 10000
     },
     "inputWidgets": {},
     "nuid": "43155150-de01-4c19-ba16-f8f9ee1e468a",
     "showTitle": false,
     "tableResultSettingsMap": {},
     "title": ""
    }
   },
   "outputs": [
    {
     "output_type": "display_data",
     "data": {
      "text/html": [
       "<style scoped>\n",
       "  .table-result-container {\n",
       "    max-height: 300px;\n",
       "    overflow: auto;\n",
       "  }\n",
       "  table, th, td {\n",
       "    border: 1px solid black;\n",
       "    border-collapse: collapse;\n",
       "  }\n",
       "  th, td {\n",
       "    padding: 5px;\n",
       "  }\n",
       "  th {\n",
       "    text-align: left;\n",
       "  }\n",
       "</style><div class='table-result-container'><table class='table-result'><thead style='background-color: white'><tr><th>Country Name</th><th>Country Code</th><th>2000</th><th>2016</th></tr></thead><tbody><tr><td>Afghanistan</td><td>AFG</td><td>2.0094E7</td><td>3.4656E7</td></tr><tr><td>Albania</td><td>ALB</td><td>3089000.0</td><td>2876000.0</td></tr><tr><td>Algeria</td><td>DZA</td><td>3.1184E7</td><td>4.0606E7</td></tr><tr><td>Angola</td><td>AGO</td><td>1.6441E7</td><td>2.8813E7</td></tr><tr><td>Argentina</td><td>ARG</td><td>3.7057E7</td><td>4.3847E7</td></tr></tbody></table></div>"
      ]
     },
     "metadata": {
      "application/vnd.databricks.v1+output": {
       "addedWidgets": {},
       "aggData": [],
       "aggError": "",
       "aggOverflow": false,
       "aggSchema": [],
       "aggSeriesLimitReached": false,
       "aggType": "",
       "arguments": {},
       "columnCustomDisplayInfos": {},
       "data": [
        [
         "Afghanistan",
         "AFG",
         2.0094E7,
         3.4656E7
        ],
        [
         "Albania",
         "ALB",
         3089000.0,
         2876000.0
        ],
        [
         "Algeria",
         "DZA",
         3.1184E7,
         4.0606E7
        ],
        [
         "Angola",
         "AGO",
         1.6441E7,
         2.8813E7
        ],
        [
         "Argentina",
         "ARG",
         3.7057E7,
         4.3847E7
        ]
       ],
       "datasetInfos": [],
       "dbfsResultPath": null,
       "isJsonSchema": true,
       "metadata": {},
       "overflow": false,
       "plotOptions": {
        "customPlotOptions": {},
        "displayType": "table",
        "pivotAggregation": null,
        "pivotColumns": null,
        "xColumns": null,
        "yColumns": null
       },
       "removedWidgets": [],
       "schema": [
        {
         "metadata": "{}",
         "name": "Country Name",
         "type": "\"string\""
        },
        {
         "metadata": "{}",
         "name": "Country Code",
         "type": "\"string\""
        },
        {
         "metadata": "{}",
         "name": "2000",
         "type": "\"double\""
        },
        {
         "metadata": "{}",
         "name": "2016",
         "type": "\"double\""
        }
       ],
       "type": "table"
      }
     },
     "output_type": "display_data"
    }
   ],
   "source": [
    "\n",
    "\n",
    "## Data Preparation\n",
    "\n",
    "### Load and Prepare Data\n",
    "\n",
    "# Afghanistan Population and Density Analysis\n",
    "# Objective: Compare Afghanistan's population growth and density change (2000-2016) vs global average.\n",
    "\n",
    "import pandas as pd\n",
    "import matplotlib.pyplot as plt\n",
    "from scipy.stats import ttest_1samp\n",
    "\n",
    "# Load dataset\n",
    "df = spark.sql(\"SELECT * FROM international_debt_statistics_new\")\n",
    "\n",
    "# Convert Spark DataFrame to Pandas DataFrame\n",
    "df_pd = df.toPandas()\n",
    "\n",
    "# Filter for 'Population, total'\n",
    "pop_df = df_pd[df_pd['Series Name'] == 'Population, total'].copy()\n",
    "\n",
    "# Clean column names (remove '[YR...]')\n",
    "pop_df.columns = [col.split(' ')[0] if 'YR' in col else col for col in pop_df.columns]\n",
    "\n",
    "# Keep necessary columns\n",
    "pop_df = pop_df[['Country Name', 'Country Code', '2000', '2016']].dropna()\n",
    "\n",
    "# Convert to numeric\n",
    "pop_df['2000'] = pd.to_numeric(pop_df['2000'], errors='coerce')\n",
    "pop_df['2016'] = pd.to_numeric(pop_df['2016'], errors='coerce')\n",
    "\n",
    "# Drop rows with missing data\n",
    "pop_df.dropna(subset=['2000', '2016'], inplace=True)\n",
    "\n",
    "display(pop_df.head())"
   ]
  },
  {
   "cell_type": "markdown",
   "metadata": {
    "application/vnd.databricks.v1+cell": {
     "cellMetadata": {},
     "inputWidgets": {},
     "nuid": "1989dd95-5230-45db-b863-1c13f1bd7b10",
     "showTitle": false,
     "tableResultSettingsMap": {},
     "title": ""
    }
   },
   "source": [
    "### Clean column names (remove spaces/brackets)"
   ]
  },
  {
   "cell_type": "code",
   "execution_count": 0,
   "metadata": {
    "application/vnd.databricks.v1+cell": {
     "cellMetadata": {
      "byteLimit": 2048000,
      "rowLimit": 10000
     },
     "inputWidgets": {},
     "nuid": "6fb76866-f9a3-4bb1-8a11-adf80fbcf0ec",
     "showTitle": false,
     "tableResultSettingsMap": {},
     "title": ""
    }
   },
   "outputs": [],
   "source": [
    "\n",
    "from pyspark.sql.functions import col\n",
    "for c in df.columns:\n",
    "    df = df.withColumnRenamed(c, c.replace(\" [\", \"_\").replace(\"]\", \"\"))"
   ]
  },
  {
   "cell_type": "markdown",
   "metadata": {
    "application/vnd.databricks.v1+cell": {
     "cellMetadata": {},
     "inputWidgets": {},
     "nuid": "1feb1183-67ae-47a2-b00f-d02bb3331066",
     "showTitle": false,
     "tableResultSettingsMap": {},
     "title": ""
    }
   },
   "source": [
    "##Analysis"
   ]
  },
  {
   "cell_type": "markdown",
   "metadata": {
    "application/vnd.databricks.v1+cell": {
     "cellMetadata": {},
     "inputWidgets": {},
     "nuid": "4937c0fe-996e-4db5-b803-269b2d5a9777",
     "showTitle": false,
     "tableResultSettingsMap": {},
     "title": ""
    }
   },
   "source": [
    "###Calculate population growth "
   ]
  },
  {
   "cell_type": "code",
   "execution_count": 0,
   "metadata": {
    "application/vnd.databricks.v1+cell": {
     "cellMetadata": {
      "byteLimit": 2048000,
      "rowLimit": 10000
     },
     "inputWidgets": {},
     "nuid": "04160347-3887-433c-a3d2-4fbb3e74e583",
     "showTitle": false,
     "tableResultSettingsMap": {},
     "title": ""
    }
   },
   "outputs": [
    {
     "output_type": "stream",
     "name": "stdout",
     "output_type": "stream",
     "text": [
      "Afghanistan Growth: 72.47%\nGlobal Average Growth: 39.44%\n"
     ]
    }
   ],
   "source": [
    "# Calculate growth rate for each country\n",
    "pop_df['growth_rate'] = ((pop_df['2016'] - pop_df['2000']) / pop_df['2000']) * 100\n",
    "\n",
    "# Extract Afghanistan's values\n",
    "afg_growth = pop_df[pop_df['Country Name'] == 'Afghanistan']['growth_rate'].values[0]\n",
    "avg_growth = pop_df['growth_rate'].mean()\n",
    "\n",
    "print(f\"Afghanistan Growth: {afg_growth:.2f}%\")\n",
    "print(f\"Global Average Growth: {avg_growth:.2f}%\")"
   ]
  },
  {
   "cell_type": "markdown",
   "metadata": {
    "application/vnd.databricks.v1+cell": {
     "cellMetadata": {},
     "inputWidgets": {},
     "nuid": "b04e718c-0974-45b8-ad01-01a017b2e882",
     "showTitle": false,
     "tableResultSettingsMap": {},
     "title": ""
    }
   },
   "source": [
    "###Visualise global population growth "
   ]
  },
  {
   "cell_type": "code",
   "execution_count": 0,
   "metadata": {
    "application/vnd.databricks.v1+cell": {
     "cellMetadata": {
      "byteLimit": 2048000,
      "rowLimit": 10000
     },
     "inputWidgets": {},
     "nuid": "4a7f0393-46f1-49dc-9664-84fa9ffa6e9f",
     "showTitle": false,
     "tableResultSettingsMap": {},
     "title": ""
    }
   },
   "outputs": [
    {
     "output_type": "display_data",
     "data": {
      "image/png": "[encoded data removed]",
      "text/plain": [
       "<Figure size 1200x600 with 1 Axes>"
      ]
     },
     "metadata": {},
     "output_type": "display_data"
    }
   ],
   "source": [
    "# Create visualization\n",
    "plt.figure(figsize=(12, 6))\n",
    "plt.hist(pop_df['growth_rate'], bins=30, color='skyblue', edgecolor='black')\n",
    "plt.axvline(afg_growth, color='red', linestyle='dashed', linewidth=2, label='Afghanistan')\n",
    "plt.axvline(avg_growth, color='green', linestyle='dashed', linewidth=2, label='Global Average')\n",
    "plt.xlabel('Population Growth Rate (%)')\n",
    "plt.ylabel('Number of Countries')\n",
    "plt.title('Global Population Growth Distribution (2000-2016)')\n",
    "plt.legend()\n",
    "plt.grid(True)\n",
    "plt.show()"
   ]
  },
  {
   "cell_type": "markdown",
   "metadata": {
    "application/vnd.databricks.v1+cell": {
     "cellMetadata": {},
     "inputWidgets": {},
     "nuid": "4dcc4866-2a3b-45c1-9fe7-a07ff1c4e8c9",
     "showTitle": false,
     "tableResultSettingsMap": {},
     "title": ""
    }
   },
   "source": [
    "###Statistical Analysis"
   ]
  },
  {
   "cell_type": "code",
   "execution_count": 0,
   "metadata": {
    "application/vnd.databricks.v1+cell": {
     "cellMetadata": {
      "byteLimit": 2048000,
      "rowLimit": 10000
     },
     "inputWidgets": {},
     "nuid": "301cae46-75dd-42b8-a534-95102881dce3",
     "showTitle": false,
     "tableResultSettingsMap": {},
     "title": ""
    }
   },
   "outputs": [
    {
     "output_type": "stream",
     "name": "stdout",
     "output_type": "stream",
     "text": [
      "T-statistic: -13.97, P-value: 0.0000\nAfghanistan's growth is significantly different from the global average\n"
     ]
    }
   ],
   "source": [
    "# Perform t-test to compare Afghanistan's growth to global average\n",
    "t_stat, p_value = ttest_1samp(pop_df['growth_rate'], afg_growth)\n",
    "print(f\"T-statistic: {t_stat:.2f}, P-value: {p_value:.4f}\")\n",
    "\n",
    "if p_value < 0.05:\n",
    "    print(\"Afghanistan's growth is significantly different from the global average\")\n",
    "else:\n",
    "    print(\"No significant difference found\")"
   ]
  },
  {
   "cell_type": "markdown",
   "metadata": {
    "application/vnd.databricks.v1+cell": {
     "cellMetadata": {},
     "inputWidgets": {},
     "nuid": "68312eee-c900-422a-827f-7dfcdf2345cb",
     "showTitle": false,
     "tableResultSettingsMap": {},
     "title": ""
    }
   },
   "source": [
    "\n",
    "#Results and Conclusion\n",
    "###Key Findings:\n",
    "- Afghanistan's population grew by 72.47% from 2000-2016\n",
    "\n",
    "- The global average growth among developing countries was 39.44%\n",
    "\n",
    "- Statistical analysis shows Afghanistan's growth is significantly higher than average (p < 0.05)\n",
    "\n",
    "###Recommendations:\n",
    "- Afghanistan's rapid population growth suggests it should be prioritized for urban infrastructure investments\n",
    "\n",
    "- Further analysis should examine urbanization rates specifically (not just total population)\n",
    "\n",
    "- Consider comparing with neighboring countries for regional context\n",
    "\n",
    "###Next Steps:\n",
    "- Analyze urbanization rates specifically\n",
    "\n",
    "- Examine infrastructure needs and investment opportunities\n",
    "\n",
    "- Compare with similar countries by GDP, geography, etc."
   ]
  }
 ],
 "metadata": {
  "application/vnd.databricks.v1+notebook": {
   "computePreferences": null,
   "dashboards": [],
   "environmentMetadata": {
    "base_environment": "",
    "environment_version": "2"
   },
   "inputWidgetPreferences": null,
   "language": "python",
   "notebookMetadata": {
    "pythonIndentUnit": 4
   },
   "notebookName": "Business Use Case: Is Afghanistan Urbanizing Faster Than Similar Countries?- Loading Raw Data",
   "widgets": {}
  },
  "language_info": {
   "name": "python"
  }
 },
 "nbformat": 4,
 "nbformat_minor": 0
}